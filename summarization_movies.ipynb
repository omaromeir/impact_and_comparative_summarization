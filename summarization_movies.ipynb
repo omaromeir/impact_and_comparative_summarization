{
 "cells": [
  {
   "cell_type": "code",
   "execution_count": 1,
   "id": "3bf6ccd4",
   "metadata": {},
   "outputs": [],
   "source": [
    "import pandas as pd\n",
    "import math\n",
    "import sys\n",
    "\n",
    "# Change path to local path to github repository\n",
    "local_path = '/Users/omaromeir/Documents/GitHub'\n",
    "sys.path.insert(0, local_path + '/impact_and_comparative_summarization')\n",
    "\n",
    "import src.asp\n",
    "import src.cps"
   ]
  },
  {
   "cell_type": "code",
   "execution_count": 2,
   "id": "9599336b",
   "metadata": {},
   "outputs": [],
   "source": [
    "# Postgresql database connection\n",
    "import psycopg2  \n",
    "conn = psycopg2.connect(dbname=\"testdb\", host=\"localhost\", port=\"5432\")\n",
    "conn.set_client_encoding('UTF8')"
   ]
  },
  {
   "cell_type": "code",
   "execution_count": 3,
   "id": "dac71560",
   "metadata": {},
   "outputs": [],
   "source": [
    "# SQL query to join movie and genre tables and return all Action movies\n",
    "query = \"\"\"SELECT * FROM movie m, genre g WHERE m.id = g.movie_id AND g.genre = 'Action';\"\"\""
   ]
  },
  {
   "cell_type": "code",
   "execution_count": 4,
   "id": "d249f710",
   "metadata": {},
   "outputs": [
    {
     "name": "stderr",
     "output_type": "stream",
     "text": [
      "/Users/omaromeir/Documents/GitHub/impact_and_comparative_summarization/src/asp.py:212: UserWarning: pandas only supports SQLAlchemy connectable (engine/connection) or database string URI or sqlite3 DBAPI2 connection. Other DBAPI2 objects are not tested. Please consider using SQLAlchemy.\n",
      "  df = pd.read_sql_query(query, conn)\n"
     ]
    }
   ],
   "source": [
    "# Call to impact summary algorithm to summarize the results of the above query\n",
    "# Number of rules k is set to 4\n",
    "# The aggregate function is set to 'count'. 'avg', 'sum', 'max' and 'min' are other options\n",
    "# 'revenue' is the measure attribute, used for all other functions but count\n",
    "# query and conn are the query and db connection string\n",
    "# A list of categorical attributes to use for summary rules ['original_language','release_date','production_country','vote_average']\n",
    "# Maximum weight for rules is set to 3\n",
    "# The size of sample is set to 300, -1 to get the full set\n",
    "imp_rules = src.asp.pastWatch(4,'count', 'revenue', query, conn, ['original_language','release_date','production_country','vote_average'], 3, 300)"
   ]
  },
  {
   "cell_type": "code",
   "execution_count": 5,
   "id": "c67619ed",
   "metadata": {},
   "outputs": [
    {
     "name": "stdout",
     "output_type": "stream",
     "text": [
      "rule: original_language production_country var: en United States of America size:2 score:338 impact:169 abs_score:28730 marginal_coverage:169 abs_coverage:169\n",
      "rule: original_language var: en size:1 score:73 impact:242 abs_score:242 marginal_coverage:73 abs_coverage:242\n",
      "rule: original_language production_country vote_average var: en United States of America 6.0 size:3 score:67 impact:67 abs_score:201 marginal_coverage:0 abs_coverage:67\n",
      "rule: original_language vote_average var: en 5.0 size:2 score:168 impact:84 abs_score:168 marginal_coverage:84 abs_coverage:84\n"
     ]
    }
   ],
   "source": [
    "# Print the generated rules\n",
    "for r in imp_rules[1]:\n",
    "    r.printRule()"
   ]
  },
  {
   "cell_type": "code",
   "execution_count": 6,
   "id": "1b39b909",
   "metadata": {},
   "outputs": [],
   "source": [
    "# Comparative summary takes 2 queries, then gets the results of both as two sets of tuples to compare\n",
    "query1 = \"\"\"SELECT * FROM movie m, genre g WHERE m.id = g.movie_id AND g.genre = 'Action';\"\"\"\n",
    "query2 = \"\"\"SELECT * FROM movie m, genre g WHERE m.id = g.movie_id AND g.genre = 'Adventure';\"\"\""
   ]
  },
  {
   "cell_type": "code",
   "execution_count": 7,
   "id": "3235c12d",
   "metadata": {},
   "outputs": [
    {
     "name": "stderr",
     "output_type": "stream",
     "text": [
      "/Users/omaromeir/Documents/GitHub/impact_and_comparative_summarization/src/cps.py:514: UserWarning: pandas only supports SQLAlchemy connectable (engine/connection) or database string URI or sqlite3 DBAPI2 connection. Other DBAPI2 objects are not tested. Please consider using SQLAlchemy.\n",
      "  df1 = pd.read_sql_query(query1, conn)\n",
      "/Users/omaromeir/Documents/GitHub/impact_and_comparative_summarization/src/cps.py:521: UserWarning: pandas only supports SQLAlchemy connectable (engine/connection) or database string URI or sqlite3 DBAPI2 connection. Other DBAPI2 objects are not tested. Please consider using SQLAlchemy.\n",
      "  df2 = pd.read_sql_query(query2, conn)\n"
     ]
    }
   ],
   "source": [
    "# Call to comparative summary algorithm to summarize the commonalities between the above queries\n",
    "# Number of rules k is set to 4\n",
    "# The aggregate function is set to 'count'. 'avg', 'sum', 'max' and 'min' are other options\n",
    "# 'revenue' is the measure attribute, used for all other functions but count\n",
    "# query1, query2 and conn are the queries and db connection string\n",
    "# A list of categorical attributes to use for summary rules ['original_language', 'production_country','vote_average']\n",
    "# Maximum weight for rules is set to 3\n",
    "# The size of sample is set to 100, -1 to get the full sets\n",
    "cps_rules = src.cps.pastWatch(4, 'count', 'revenue', query1, query2, ['original_language','production_country','vote_average'], conn, 100)"
   ]
  },
  {
   "cell_type": "code",
   "execution_count": 8,
   "id": "d327a6da",
   "metadata": {},
   "outputs": [
    {
     "name": "stdout",
     "output_type": "stream",
     "text": [
      "rule: original_language var: en size:1 score:12798 impact:12798 abs_score:0 marginal_coverage:6399 abs_coverage:6399\n",
      "rule: vote_average var: 5.0 size:1 score:682 impact:2016 abs_score:0 marginal_coverage:341 abs_coverage:1008\n",
      "rule: original_language production_country var: en United States of America size:2 score:10224 impact:5616 abs_score:0 marginal_coverage:2556 abs_coverage:2808\n",
      "rule: production_country var: United States of America size:1 score:5112 impact:5616 abs_score:0 marginal_coverage:2556 abs_coverage:2808\n"
     ]
    }
   ],
   "source": [
    "# Print the generated rules\n",
    "for r in cps_rules[2]:\n",
    "    r.printRule()"
   ]
  },
  {
   "cell_type": "code",
   "execution_count": null,
   "id": "07aa6fdc",
   "metadata": {},
   "outputs": [],
   "source": []
  }
 ],
 "metadata": {
  "kernelspec": {
   "display_name": "Python 3 (ipykernel)",
   "language": "python",
   "name": "python3"
  },
  "language_info": {
   "codemirror_mode": {
    "name": "ipython",
    "version": 3
   },
   "file_extension": ".py",
   "mimetype": "text/x-python",
   "name": "python",
   "nbconvert_exporter": "python",
   "pygments_lexer": "ipython3",
   "version": "3.10.8"
  }
 },
 "nbformat": 4,
 "nbformat_minor": 5
}
